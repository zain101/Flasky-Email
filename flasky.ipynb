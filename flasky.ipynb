{
 "metadata": {
  "name": "",
  "signature": "sha256:e0de9faa8b78a71dff3d8e35fcb811ec4ca93fc8f91906eb9ffe2d9237649ad7"
 },
 "nbformat": 3,
 "nbformat_minor": 0,
 "worksheets": [
  {
   "cells": [
    {
     "cell_type": "code",
     "collapsed": false,
     "input": [
      "import os\n",
      "a = os.path.dirname(__name__)\n",
      "basedir = os.path.abspath(a)\n",
      "\n",
      "print a\n",
      "print basedir\n",
      "print os.environ.get('MAIL_USERNAME')\n",
      "print os.environ.get('MAIL_PASSWORD')"
     ],
     "language": "python",
     "metadata": {},
     "outputs": [
      {
       "output_type": "stream",
       "stream": "stdout",
       "text": [
        "\n",
        "/home/zainul/PycharmProjects/flasky-email\n",
        "zainul.sayed28@gmail.com\n",
        "dgeps6961k\n"
       ]
      }
     ],
     "prompt_number": 10
    }
   ],
   "metadata": {}
  }
 ]
}