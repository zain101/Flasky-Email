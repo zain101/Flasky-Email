{
 "metadata": {
  "name": "",
  "signature": "sha256:454fb45863e217ccde20b2a65a6d6d6899e2f4d07369c0aee414c117824f2b70"
 },
 "nbformat": 3,
 "nbformat_minor": 0,
 "worksheets": [
  {
   "cells": [
    {
     "cell_type": "code",
     "collapsed": false,
     "input": [
      "import os\n",
      "a = os.path.dirname(__name__)\n",
      "basedir = os.path.abspath(a)\n",
      "\n",
      "print a\n",
      "print basedir\n",
      "print os.environ.get('MAIL_USERNAME')\n",
      "print os.environ.get('MAIL_PASSWORD')"
     ],
     "language": "python",
     "metadata": {},
     "outputs": [
      {
       "output_type": "stream",
       "stream": "stdout",
       "text": [
        "\n",
        "/home/zainul/PycharmProjects/flasky-email\n",
        "zainul.sayed28@gmail.com\n",
        "dgeps6961k\n"
       ]
      }
     ],
     "prompt_number": 10
    },
    {
     "cell_type": "code",
     "collapsed": false,
     "input": [
      "class Permission():\n",
      "    FOLLOW = 0x01\n",
      "    COMMENT = 0X02\n",
      "    WRITE_ARTICLE = 0X04\n",
      "    MODERATE_COMMENTS = 0X08\n",
      "    ADMINISTER = 0X80\n",
      "    \n",
      "    \n",
      "class sample():\n",
      "    @staticmethod\n",
      "    def insert_roles():\n",
      "        roles = {\n",
      "            'User': (Permission.FOLLOW | Permission.COMMENT | Permission.WRITE_ARTICLE, True ),\n",
      "            'Moderator': (Permission.FOLLOW | Permission.COMMENT | Permission.WRITE_ARTICLE | Permission.MODERATE_COMMENTS, False),\n",
      "            'Adminitrator': (0xff, False)\n",
      "        }\n",
      "\n",
      "        for r in roles:\n",
      "            print r\n",
      "            print roles[0][0]\n",
      "            print roles[r][0]\n",
      "            print roles[r][1]\n",
      "            \n",
      "            \n",
      "            \n",
      "            \n",
      "sample.insert_roles()\n",
      "            \n",
      "            "
     ],
     "language": "python",
     "metadata": {},
     "outputs": [
      {
       "output_type": "stream",
       "stream": "stdout",
       "text": [
        "Moderator\n",
        "{'Moderator': (15, False), 'Adminitrator': (255, False), 'User': (7, True)}\n",
        "15\n",
        "False\n",
        "Adminitrator\n",
        "{'Moderator': (15, False), 'Adminitrator': (255, False), 'User': (7, True)}\n",
        "255\n",
        "False\n",
        "User\n",
        "{'Moderator': (15, False), 'Adminitrator': (255, False), 'User': (7, True)}\n",
        "7\n",
        "True\n"
       ]
      }
     ],
     "prompt_number": 29
    }
   ],
   "metadata": {}
  }
 ]
}